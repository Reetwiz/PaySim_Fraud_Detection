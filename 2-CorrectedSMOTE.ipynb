{
 "cells": [
  {
   "cell_type": "markdown",
   "metadata": {},
   "source": [
    " ## Proper Data Handling with SMOTE"
   ]
  },
  {
   "cell_type": "code",
   "execution_count": null,
   "metadata": {},
   "outputs": [],
   "source": [
    "import pandas as pd\n",
    "import numpy as np\n",
    "import seaborn as sns\n",
    "import matplotlib.pyplot as plt\n",
    "from sklearn.model_selection import train_test_split\n",
    "from sklearn.preprocessing import LabelEncoder\n",
    "from sklearn.metrics import classification_report, roc_auc_score, roc_curve, precision_recall_curve, auc\n",
    "from imblearn.over_sampling import SMOTE\n",
    "import lightgbm as lgb\n",
    "import xgboost as xgb\n",
    "import joblib\n",
    "import shap\n"
   ]
  },
  {
   "cell_type": "markdown",
   "metadata": {},
   "source": [
    " ### Load and Preprocess Data"
   ]
  },
  {
   "cell_type": "code",
   "execution_count": null,
   "metadata": {},
   "outputs": [],
   "source": [
    "df = pd.read_csv(\"PS_20174392719_1491204439457_log.csv\").drop(['nameOrig', 'nameDest'], axis=1)\n",
    "encoder = LabelEncoder()\n",
    "df['type'] = encoder.fit_transform(df['type'])\n"
   ]
  },
  {
   "cell_type": "markdown",
   "metadata": {},
   "source": [
    " ### Data Splitting and SMOTE Application"
   ]
  },
  {
   "cell_type": "code",
   "execution_count": null,
   "metadata": {},
   "outputs": [],
   "source": [
    "X = df.drop('isFraud', axis=1)\n",
    "y = df['isFraud']\n",
    "X_train, X_test, y_train, y_test = train_test_split(X, y, test_size=0.2, stratify=y, random_state=42)\n",
    "X_train_res, y_train_res = SMOTE(random_state=42).fit_resample(X_train, y_train)\n"
   ]
  },
  {
   "cell_type": "markdown",
   "metadata": {},
   "source": [
    " ### Model Training"
   ]
  },
  {
   "cell_type": "code",
   "execution_count": null,
   "metadata": {},
   "outputs": [],
   "source": [
    "# Train LightGBM model\n",
    "lgb_model = lgb.LGBMClassifier(boosting_type='gbdt', objective='binary', learning_rate=0.05,\n",
    "                               num_leaves=31, max_depth=5, n_estimators=200, reg_alpha=0.1, reg_lambda=0.1)\n",
    "lgb_model.fit(X_train_res, y_train_res)\n",
    "\n",
    "# Train XGBoost model\n",
    "scale_pos_weight = len(y_train[y_train == 0]) / len(y_train[y_train == 1])\n",
    "xgb_model = xgb.XGBClassifier(objective='binary:logistic', learning_rate=0.05, max_depth=5, n_estimators=200,\n",
    "                              reg_alpha=0.1, reg_lambda=0.5, scale_pos_weight=scale_pos_weight, eval_metric='auc')\n",
    "xgb_model.fit(X_train, y_train)\n"
   ]
  },
  {
   "cell_type": "markdown",
   "metadata": {},
   "source": [
    " ### Model Evaluation"
   ]
  },
  {
   "cell_type": "code",
   "execution_count": null,
   "metadata": {},
   "outputs": [],
   "source": [
    "def evaluate_model(model, X_test, y_test, model_name):\n",
    "    y_probs = model.predict_proba(X_test)[:, 1]\n",
    "    y_pred = model.predict(X_test)\n",
    "    roc_auc = roc_auc_score(y_test, y_probs)\n",
    "    precision, recall, _ = precision_recall_curve(y_test, y_probs)\n",
    "    pr_auc = auc(recall, precision)\n",
    "    fpr, tpr, _ = roc_curve(y_test, y_probs)\n",
    "    \n",
    "    print(f\"\\nEvaluation for {model_name}:\")\n",
    "    print(classification_report(y_test, y_pred))\n",
    "    \n",
    "    # Plot ROC and PR curves\n",
    "    fig, axes = plt.subplots(1, 2, figsize=(12, 5))\n",
    "    axes[0].plot(fpr, tpr, color='darkorange', lw=2, label=f'ROC AUC = {roc_auc:.2f}')\n",
    "    axes[0].plot([0, 1], [0, 1], linestyle='--', color='navy')\n",
    "    axes[0].set_xlabel('False Positive Rate')\n",
    "    axes[0].set_ylabel('True Positive Rate')\n",
    "    axes[0].set_title(f'ROC Curve - {model_name}')\n",
    "    axes[0].legend()\n",
    "    \n",
    "    axes[1].plot(recall, precision, color='blue', lw=2, label=f'PR AUC = {pr_auc:.2f}')\n",
    "    axes[1].set_xlabel('Recall')\n",
    "    axes[1].set_ylabel('Precision')\n",
    "    axes[1].set_title(f'Precision-Recall Curve - {model_name}')\n",
    "    axes[1].legend()\n",
    "    \n",
    "    plt.tight_layout()\n",
    "    plt.show()\n"
   ]
  },
  {
   "cell_type": "code",
   "execution_count": null,
   "metadata": {},
   "outputs": [],
   "source": [
    "evaluate_model(lgb_model, X_test, y_test, \"LightGBM\")\n",
    "evaluate_model(xgb_model, X_test, y_test, \"XGBoost\")\n"
   ]
  },
  {
   "cell_type": "markdown",
   "metadata": {},
   "source": [
    " ### Feature Importance Plot"
   ]
  },
  {
   "cell_type": "code",
   "execution_count": null,
   "metadata": {},
   "outputs": [],
   "source": [
    "def plot_feature_importance(model, X, model_name):\n",
    "    explainer = shap.Explainer(model)\n",
    "    shap_values = explainer(X)\n",
    "    shap.summary_plot(shap_values, X, plot_type=\"bar\", show=False)\n",
    "    plt.title(f\"Feature Importance - {model_name}\")\n",
    "    plt.show()\n"
   ]
  },
  {
   "cell_type": "code",
   "execution_count": null,
   "metadata": {},
   "outputs": [],
   "source": [
    "plot_feature_importance(lgb_model, X_test, \"LightGBM\")\n",
    "plot_feature_importance(xgb_model, X_test, \"XGBoost\")\n"
   ]
  },
  {
   "cell_type": "markdown",
   "metadata": {},
   "source": [
    " ### Save Models"
   ]
  },
  {
   "cell_type": "code",
   "execution_count": null,
   "metadata": {},
   "outputs": [],
   "source": [
    "joblib.dump(lgb_model, \"lightgbm_fraud_detection.pkl\")\n",
    "joblib.dump(xgb_model, \"xgboost_fraud_detection.pkl\")\n",
    "joblib.dump(encoder, \"label_encoder.pkl\")\n",
    "print(\"Models and encoder saved successfully!\")\n"
   ]
  }
 ],
 "metadata": {
  "language_info": {
   "codemirror_mode": {
    "name": "ipython",
    "version": 3
   },
   "file_extension": ".py",
   "mimetype": "text/x-python",
   "name": "python",
   "nbconvert_exporter": "python",
   "pygments_lexer": "ipython3",
   "version": 3
  }
 },
 "nbformat": 4,
 "nbformat_minor": 2
}
